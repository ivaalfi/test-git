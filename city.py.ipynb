{
 "cells": [
  {
   "cell_type": "code",
   "execution_count": 1,
   "id": "8a2c39bb",
   "metadata": {},
   "outputs": [
    {
     "name": "stdout",
     "output_type": "stream",
     "text": [
      "Saya tinggal di  Austin.\n",
      "Saya tinggal di  Tokyo.\n",
      "Saya tinggal di  Salzburg.\n"
     ]
    }
   ],
   "source": [
    "def myCity(city):\n",
    "     print(\"Saya tinggal di  \" + city + \".\")\n",
    "        \n",
    "myCity(\"Austin\")\n",
    "myCity(\"Tokyo\")\n",
    "myCity(\"Salzburg\")"
   ]
  },
  {
   "cell_type": "code",
   "execution_count": 3,
   "id": "8561297e",
   "metadata": {},
   "outputs": [
    {
     "name": "stdout",
     "output_type": "stream",
     "text": [
      "Iva\n",
      "Jakarta Selatan\n",
      "<class '__main__.Location'>\n"
     ]
    }
   ],
   "source": [
    "class Location:\n",
    "    def __init__(self, name, country):\n",
    "        self.name = name\n",
    "        self.country = country\n",
    "        \n",
    "lokasi = Location(\"Iva\", \"Jakarta Selatan\")\n",
    "print(lokasi.name)\n",
    "print(lokasi.country)\n",
    "print(type(lokasi))"
   ]
  },
  {
   "cell_type": "code",
   "execution_count": 4,
   "id": "d91b9a3a",
   "metadata": {},
   "outputs": [
    {
     "name": "stdout",
     "output_type": "stream",
     "text": [
      "Hi, my name is Tomas and I live in Portugal.\n",
      "Hi, my name is Ying and I live in China.\n",
      "Hi, my name is Amare and I live in Kenya.\n",
      "Hi, my name is Your_Name and I live in Your_Country.\n"
     ]
    }
   ],
   "source": [
    "class Location:\n",
    "    def __init__(self, name, country):\n",
    "        self.name = name\n",
    "        self.country = country\n",
    "    def myLocation(self):\n",
    "        print(\"Hi, my name is \" + self.name + \" and I live in \" + self.country + \".\")\n",
    "\n",
    "# First instantiation of the class Location \n",
    "loc1 = Location(\"Tomas\", \"Portugal\")\n",
    "# Call a method from the instantiated class\n",
    "loc1.myLocation()\n",
    "loc2 = Location(\"Ying\", \"China\")\n",
    "loc3 = Location(\"Amare\", \"Kenya\")\n",
    "loc2.myLocation()\n",
    "loc3.myLocation()\n",
    "your_loc = Location(\"Your_Name\", \"Your_Country\")\n",
    "your_loc.myLocation()"
   ]
  },
  {
   "cell_type": "code",
   "execution_count": 5,
   "id": "31c62aa8",
   "metadata": {},
   "outputs": [
    {
     "name": "stdout",
     "output_type": "stream",
     "text": [
      "Circumference of a circle with a radius of 2 is 12.56\n",
      "Circumference of a circle with a radius of 5 is 31.400000000000002\n",
      "Circumference of a circle with a radius of 7 is 43.96\n"
     ]
    }
   ],
   "source": [
    "# Given a radius value, print the circumference of a circle.\n",
    "# Formula for a circumference is c = pi * 2 * radius\n",
    "\n",
    "class Circle:\n",
    "\n",
    "    def __init__(self, radius):\n",
    "        self.radius = radius\n",
    "\n",
    "    def circumference(self):\n",
    "      pi = 3.14\n",
    "      circumferenceValue = pi * self.radius * 2\n",
    "      return circumferenceValue\n",
    "\n",
    "    def printCircumference(self):\n",
    "      myCircumference = self.circumference()\n",
    "      print (\"Circumference of a circle with a radius of \" + str(self.radius) + \" is \" + str(myCircumference))\n",
    "\n",
    "# First instantiation of the Circle class.\n",
    "circle1 = Circle(2)\n",
    "# Call the printCircumference for the instantiated circle1 class.\n",
    "circle1.printCircumference()\n",
    "\n",
    "# Two more instantiations and method calls for the Circle class.\n",
    "circle2 = Circle(5)\n",
    "circle2.printCircumference()\n",
    "\n",
    "circle3 = Circle(7)\n",
    "circle3.printCircumference()"
   ]
  },
  {
   "cell_type": "code",
   "execution_count": 6,
   "id": "2e42b567",
   "metadata": {},
   "outputs": [
    {
     "name": "stdout",
     "output_type": "stream",
     "text": [
      "2\n",
      "10\n",
      "10.0\n",
      "alas =  10  tinggi =  7  hasilnya  35.0\n"
     ]
    }
   ],
   "source": [
    "class rumus:\n",
    "    def __init__(luas, alas, tinggi):\n",
    "        luas.alas = alas\n",
    "        luas.tinggi = tinggi\n",
    "        luas.hasil=(alas*tinggi) /2\n",
    "    \n",
    "r = rumus(2, 10)\n",
    "print(r.alas)\n",
    "print(r.tinggi)\n",
    "print(r.hasil)\n",
    "r2 =rumus(10,7)\n",
    "print(\"alas = \" ,r2.alas, \" tinggi = \" ,r2.tinggi, \" hasilnya \" ,r2.hasil)"
   ]
  },
  {
   "cell_type": "code",
   "execution_count": null,
   "id": "d9e298eb",
   "metadata": {},
   "outputs": [],
   "source": []
  }
 ],
 "metadata": {
  "kernelspec": {
   "display_name": "Python 3",
   "language": "python",
   "name": "python3"
  },
  "language_info": {
   "codemirror_mode": {
    "name": "ipython",
    "version": 3
   },
   "file_extension": ".py",
   "mimetype": "text/x-python",
   "name": "python",
   "nbconvert_exporter": "python",
   "pygments_lexer": "ipython3",
   "version": "3.8.8"
  }
 },
 "nbformat": 4,
 "nbformat_minor": 5
}
